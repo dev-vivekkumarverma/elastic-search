{
 "cells": [
  {
   "cell_type": "markdown",
   "metadata": {},
   "source": [
    "# Bulk APIs"
   ]
  },
  {
   "cell_type": "code",
   "execution_count": 2,
   "metadata": {},
   "outputs": [],
   "source": [
    "from pprint import pprint\n",
    "from elasticsearch import Elasticsearch"
   ]
  },
  {
   "cell_type": "code",
   "execution_count": 3,
   "metadata": {},
   "outputs": [],
   "source": [
    "es=Elasticsearch(\"http://localhost:9200\")\n",
    "client_info=es.info()"
   ]
  },
  {
   "cell_type": "code",
   "execution_count": 5,
   "metadata": {},
   "outputs": [
    {
     "name": "stdout",
     "output_type": "stream",
     "text": [
      "Connected to ElasticSearch !\n",
      "{'cluster_name': 'docker-cluster',\n",
      " 'cluster_uuid': 'XoT9Xm1xR3O6L3zfFdu5nQ',\n",
      " 'name': 'd8153502b8b9',\n",
      " 'tagline': 'You Know, for Search',\n",
      " 'version': {'build_date': '2023-02-13T09:35:20.314882762Z',\n",
      "             'build_flavor': 'default',\n",
      "             'build_hash': '2d58d0f136141f03239816a4e360a8d17b6d8f29',\n",
      "             'build_snapshot': False,\n",
      "             'build_type': 'docker',\n",
      "             'lucene_version': '9.4.2',\n",
      "             'minimum_index_compatibility_version': '7.0.0',\n",
      "             'minimum_wire_compatibility_version': '7.17.0',\n",
      "             'number': '8.6.2'}}\n"
     ]
    }
   ],
   "source": [
    "print(\"Connected to ElasticSearch !\")\n",
    "pprint(client_info.body)"
   ]
  },
  {
   "cell_type": "code",
   "execution_count": 8,
   "metadata": {},
   "outputs": [
    {
     "data": {
      "text/plain": [
       "ObjectApiResponse({'acknowledged': True, 'shards_acknowledged': True, 'index': 'bulk_api_index'})"
      ]
     },
     "execution_count": 8,
     "metadata": {},
     "output_type": "execute_result"
    }
   ],
   "source": [
    "# create the index for bulk api operation\n",
    "\n",
    "# delete the bulk_api_index if already exists\n",
    "es.indices.delete(index=\"bulk_api_index\", ignore_unavailable=True)\n",
    "# create the bulk_api_index\n",
    "\n",
    "es.indices.create(index=\"bulk_api_index\")"
   ]
  },
  {
   "cell_type": "code",
   "execution_count": 16,
   "metadata": {},
   "outputs": [],
   "source": [
    "docs=[\n",
    "    {\n",
    "        \"field1\":\"value11\",\n",
    "        \"field2\":\"value12\",\n",
    "        \"field3\":3\n",
    "    },\n",
    "    {\n",
    "        \"field1\":\"value21\",\n",
    "        \"field2\":\"value22\",\n",
    "        \"field3\":3\n",
    "    },\n",
    "    {\n",
    "        \"field1\":\"value31\",\n",
    "        \"field2\":\"value32\",\n",
    "        \"field3\":3\n",
    "    }\n",
    "]"
   ]
  },
  {
   "cell_type": "markdown",
   "metadata": {},
   "source": [
    "- we can use `source format` and `doc format` for update"
   ]
  },
  {
   "cell_type": "code",
   "execution_count": 17,
   "metadata": {},
   "outputs": [],
   "source": [
    "# bulk api for creating/index, updating and deleting the document in index\n",
    "bulk_res=es.bulk(\n",
    "    operations=[\n",
    "        #action1: index\n",
    "        {\n",
    "            \"index\":{\n",
    "                \"_index\":\"bulk_api_index\",\n",
    "                \"_id\":\"1\"\n",
    "            }\n",
    "        },\n",
    "        # data for : action 1 in source format\n",
    "        docs[0],\n",
    "        # action 2: index/insert doc \n",
    "        {\n",
    "            \"index\":{\n",
    "                \"_id\":\"2\",\n",
    "                \"_index\":\"bulk_api_index\"\n",
    "            }\n",
    "        },\n",
    "        docs[1], # data for action2 in sorce format\n",
    "        {\n",
    "            # action 3: insert doc 3 without specifying _id value\n",
    "            \"index\":{\n",
    "                \"_index\":\"bulk_api_index\"\n",
    "            }\n",
    "        },\n",
    "        # data for action 3 in source format\n",
    "        docs[2],\n",
    "        # action 4: deleting the doc at id 1\n",
    "        {\n",
    "            \"delete\":{\n",
    "                \"_index\":\"bulk_api_index\",\n",
    "                \"_id\":\"1\"\n",
    "            }\n",
    "            \n",
    "        },\n",
    "        # no source required for delete\n",
    "        # action 5: update the doc at id 2\n",
    "        {\n",
    "            \"index\":{\n",
    "                \"_index\":\"bulk_api_index\",\n",
    "                \"_id\":\"2\"\n",
    "            }\n",
    "        },\n",
    "        # data for action 5 in source format\n",
    "        {\n",
    "            \n",
    "            \"field3\":134,\n",
    "            \"field4\":\"hey adding an extra field in the doc\"\n",
    "        \n",
    "        }\n",
    "    ]\n",
    ")\n"
   ]
  },
  {
   "cell_type": "code",
   "execution_count": 18,
   "metadata": {},
   "outputs": [
    {
     "data": {
      "text/plain": [
       "False"
      ]
     },
     "execution_count": 18,
     "metadata": {},
     "output_type": "execute_result"
    }
   ],
   "source": [
    "bulk_res.body['errors']"
   ]
  },
  {
   "cell_type": "code",
   "execution_count": 19,
   "metadata": {},
   "outputs": [
    {
     "data": {
      "text/plain": [
       "{'took': 95,\n",
       " 'errors': False,\n",
       " 'items': [{'index': {'_index': 'bulk_api_index',\n",
       "    '_id': '1',\n",
       "    '_version': 1,\n",
       "    'result': 'created',\n",
       "    '_shards': {'total': 2, 'successful': 1, 'failed': 0},\n",
       "    '_seq_no': 2,\n",
       "    '_primary_term': 1,\n",
       "    'status': 201}},\n",
       "  {'index': {'_index': 'bulk_api_index',\n",
       "    '_id': '2',\n",
       "    '_version': 1,\n",
       "    'result': 'created',\n",
       "    '_shards': {'total': 2, 'successful': 1, 'failed': 0},\n",
       "    '_seq_no': 3,\n",
       "    '_primary_term': 1,\n",
       "    'status': 201}},\n",
       "  {'index': {'_index': 'bulk_api_index',\n",
       "    '_id': '_ajeNpUBUdIER6xMfbEd',\n",
       "    '_version': 1,\n",
       "    'result': 'created',\n",
       "    '_shards': {'total': 2, 'successful': 1, 'failed': 0},\n",
       "    '_seq_no': 4,\n",
       "    '_primary_term': 1,\n",
       "    'status': 201}},\n",
       "  {'delete': {'_index': 'bulk_api_index',\n",
       "    '_id': '1',\n",
       "    '_version': 2,\n",
       "    'result': 'deleted',\n",
       "    '_shards': {'total': 2, 'successful': 1, 'failed': 0},\n",
       "    '_seq_no': 5,\n",
       "    '_primary_term': 1,\n",
       "    'status': 200}},\n",
       "  {'index': {'_index': 'bulk_api_index',\n",
       "    '_id': '2',\n",
       "    '_version': 2,\n",
       "    'result': 'updated',\n",
       "    '_shards': {'total': 2, 'successful': 1, 'failed': 0},\n",
       "    '_seq_no': 6,\n",
       "    '_primary_term': 1,\n",
       "    'status': 200}}]}"
      ]
     },
     "execution_count": 19,
     "metadata": {},
     "output_type": "execute_result"
    }
   ],
   "source": [
    "bulk_res.body"
   ]
  },
  {
   "cell_type": "code",
   "execution_count": 23,
   "metadata": {},
   "outputs": [
    {
     "data": {
      "text/plain": [
       "{'_index': 'bulk_api_index',\n",
       " '_id': '2',\n",
       " '_version': 2,\n",
       " '_seq_no': 6,\n",
       " '_primary_term': 1,\n",
       " 'found': True,\n",
       " '_source': {'doc': {'field3': 134,\n",
       "   'field4': 'hey adding an extra field in the doc'}}}"
      ]
     },
     "execution_count": 23,
     "metadata": {},
     "output_type": "execute_result"
    }
   ],
   "source": [
    "es.get(index=\"bulk_api_index\",id=\"2\").body"
   ]
  },
  {
   "cell_type": "code",
   "execution_count": 24,
   "metadata": {},
   "outputs": [
    {
     "data": {
      "text/plain": [
       "{'_index': 'bulk_api_index',\n",
       " '_id': '_ajeNpUBUdIER6xMfbEd',\n",
       " '_version': 1,\n",
       " '_seq_no': 4,\n",
       " '_primary_term': 1,\n",
       " 'found': True,\n",
       " '_source': {'doc': {'field1': 'value31', 'field2': 'value32', 'field3': 3}}}"
      ]
     },
     "execution_count": 24,
     "metadata": {},
     "output_type": "execute_result"
    }
   ],
   "source": [
    "es.get(index=\"bulk_api_index\",id=\"_ajeNpUBUdIER6xMfbEd\").body"
   ]
  },
  {
   "cell_type": "code",
   "execution_count": 26,
   "metadata": {},
   "outputs": [
    {
     "data": {
      "text/plain": [
       "2"
      ]
     },
     "execution_count": 26,
     "metadata": {},
     "output_type": "execute_result"
    }
   ],
   "source": [
    "es.count(index=\"bulk_api_index\").body[\"count\"]"
   ]
  },
  {
   "cell_type": "code",
   "execution_count": null,
   "metadata": {},
   "outputs": [],
   "source": [
    "update_as_upsert=es.bulk(\n",
    "    operations=[\n",
    "        {\n",
    "            \"update\":{\n",
    "                \"_index\":\"bulk_api_index\",\n",
    "                \"_id\":\"4\"\n",
    "            }\n",
    "        },\n",
    "        {\n",
    "            \"doc_as_upsert\":\"true\", # update as upsert\n",
    "            \"doc\":{\n",
    "                \"field1\":\"field 1 value\",\n",
    "                \"field2\":\"field 2 value\"\n",
    "            }\n",
    "        }\n",
    "    ]\n",
    ")"
   ]
  },
  {
   "cell_type": "code",
   "execution_count": 31,
   "metadata": {},
   "outputs": [
    {
     "data": {
      "text/plain": [
       "False"
      ]
     },
     "execution_count": 31,
     "metadata": {},
     "output_type": "execute_result"
    }
   ],
   "source": [
    "update_as_upsert.body['errors']"
   ]
  },
  {
   "cell_type": "code",
   "execution_count": 32,
   "metadata": {},
   "outputs": [
    {
     "data": {
      "text/plain": [
       "{'took': 5,\n",
       " 'errors': False,\n",
       " 'items': [{'update': {'_index': 'bulk_api_index',\n",
       "    '_id': '4',\n",
       "    '_version': 1,\n",
       "    'result': 'created',\n",
       "    '_shards': {'total': 2, 'successful': 1, 'failed': 0},\n",
       "    '_seq_no': 7,\n",
       "    '_primary_term': 1,\n",
       "    'status': 201}}]}"
      ]
     },
     "execution_count": 32,
     "metadata": {},
     "output_type": "execute_result"
    }
   ],
   "source": [
    "update_as_upsert.body"
   ]
  },
  {
   "cell_type": "code",
   "execution_count": 30,
   "metadata": {},
   "outputs": [
    {
     "data": {
      "text/plain": [
       "{'_index': 'bulk_api_index',\n",
       " '_id': '4',\n",
       " '_version': 1,\n",
       " '_seq_no': 7,\n",
       " '_primary_term': 1,\n",
       " 'found': True,\n",
       " '_source': {'field1': 'field 1 value', 'field2': 'field 2 value'}}"
      ]
     },
     "execution_count": 30,
     "metadata": {},
     "output_type": "execute_result"
    }
   ],
   "source": [
    "es.get(index=\"bulk_api_index\", id=\"4\").body"
   ]
  },
  {
   "cell_type": "code",
   "execution_count": null,
   "metadata": {},
   "outputs": [],
   "source": []
  }
 ],
 "metadata": {
  "kernelspec": {
   "display_name": "venv",
   "language": "python",
   "name": "python3"
  },
  "language_info": {
   "codemirror_mode": {
    "name": "ipython",
    "version": 3
   },
   "file_extension": ".py",
   "mimetype": "text/x-python",
   "name": "python",
   "nbconvert_exporter": "python",
   "pygments_lexer": "ipython3",
   "version": "3.11.11"
  }
 },
 "nbformat": 4,
 "nbformat_minor": 2
}
