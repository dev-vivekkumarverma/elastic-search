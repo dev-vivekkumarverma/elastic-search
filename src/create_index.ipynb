{
 "cells": [
  {
   "cell_type": "code",
   "execution_count": 1,
   "metadata": {},
   "outputs": [],
   "source": [
    "from pprint import pprint\n",
    "from elasticsearch import Elasticsearch\n",
    "import json"
   ]
  },
  {
   "cell_type": "code",
   "execution_count": 2,
   "metadata": {},
   "outputs": [
    {
     "name": "stdout",
     "output_type": "stream",
     "text": [
      "Connected to Elastic-Search !\n",
      "{'cluster_name': 'docker-cluster',\n",
      " 'cluster_uuid': 'tGYnSe7ISE2SFo0pu1RcHg',\n",
      " 'name': '5d9dbd669d35',\n",
      " 'tagline': 'You Know, for Search',\n",
      " 'version': {'build_date': '2023-02-13T09:35:20.314882762Z',\n",
      "             'build_flavor': 'default',\n",
      "             'build_hash': '2d58d0f136141f03239816a4e360a8d17b6d8f29',\n",
      "             'build_snapshot': False,\n",
      "             'build_type': 'docker',\n",
      "             'lucene_version': '9.4.2',\n",
      "             'minimum_index_compatibility_version': '7.0.0',\n",
      "             'minimum_wire_compatibility_version': '7.17.0',\n",
      "             'number': '8.6.2'}}\n"
     ]
    }
   ],
   "source": [
    "es=Elasticsearch(hosts='http://localhost:9200/')\n",
    "client_info=es.info()\n",
    "print(\"Connected to Elastic-Search !\")\n",
    "pprint(client_info.body)"
   ]
  },
  {
   "cell_type": "markdown",
   "metadata": {},
   "source": [
    "# 1. `Creating Index`"
   ]
  },
  {
   "cell_type": "markdown",
   "metadata": {},
   "source": [
    "1. simple way: \n",
    "- In this method, the mappings which define the structure of documents within an index are infered automatically."
   ]
  },
  {
   "cell_type": "code",
   "execution_count": 3,
   "metadata": {},
   "outputs": [
    {
     "data": {
      "text/plain": [
       "ObjectApiResponse({'acknowledged': True, 'shards_acknowledged': True, 'index': 'my_index'})"
      ]
     },
     "execution_count": 3,
     "metadata": {},
     "output_type": "execute_result"
    }
   ],
   "source": [
    "es.indices.delete(index=\"my_index\", ignore_unavailable=True)\n",
    "es.indices.create(index=\"my_index\")"
   ]
  },
  {
   "cell_type": "markdown",
   "metadata": {},
   "source": [
    "- `shards and replicas`"
   ]
  },
  {
   "cell_type": "code",
   "execution_count": 4,
   "metadata": {},
   "outputs": [
    {
     "data": {
      "text/plain": [
       "ObjectApiResponse({'acknowledged': True, 'shards_acknowledged': True, 'index': 'my_index'})"
      ]
     },
     "execution_count": 4,
     "metadata": {},
     "output_type": "execute_result"
    }
   ],
   "source": [
    "es.indices.delete(index=\"my_index\", ignore_unavailable=True)\n",
    "es.indices.create(index=\"my_index\",\n",
    "                  settings={\n",
    "                      \"index\":{\n",
    "                          \"number_of_replicas\":2,\n",
    "                          \"number_of_shards\":3\n",
    "                      }\n",
    "                  })"
   ]
  },
  {
   "cell_type": "markdown",
   "metadata": {},
   "source": [
    "-` Inserting documents`"
   ]
  },
  {
   "cell_type": "markdown",
   "metadata": {},
   "source": [
    "1. document structure\n",
    "document={\n",
    "    'title':'this is test title',\n",
    "    'content':'hey this is content'\n",
    "    'created_on':'2025-02-14'\n",
    "}"
   ]
  },
  {
   "cell_type": "code",
   "execution_count": 5,
   "metadata": {},
   "outputs": [],
   "source": [
    "doc={\n",
    "    'title':'this is test title',\n",
    "    'content':'hey this is content',\n",
    "    'created_on':'2025-02-14'\n",
    "}\n",
    "response=es.index(index=\"my_index\", document=doc)"
   ]
  },
  {
   "cell_type": "code",
   "execution_count": 6,
   "metadata": {},
   "outputs": [
    {
     "name": "stdout",
     "output_type": "stream",
     "text": [
      "{'_id': 'yd8MEpUBZI6kT9oae1L8',\n",
      " '_index': 'my_index',\n",
      " '_primary_term': 1,\n",
      " '_seq_no': 0,\n",
      " '_shards': {'failed': 0, 'successful': 1, 'total': 3},\n",
      " '_version': 1,\n",
      " 'result': 'created'}\n"
     ]
    }
   ],
   "source": [
    "pprint(response.body)"
   ]
  },
  {
   "cell_type": "markdown",
   "metadata": {},
   "source": [
    "-   get `mapping` of the different field of the documents in the index"
   ]
  },
  {
   "cell_type": "code",
   "execution_count": 7,
   "metadata": {},
   "outputs": [
    {
     "name": "stdout",
     "output_type": "stream",
     "text": [
      "{ 'content': { 'fields': {'keyword': {'ignore_above': 256, 'type': 'keyword'}},\n",
      "               'type': 'text'},\n",
      "  'created_on': {'type': 'date'},\n",
      "  'title': { 'fields': {'keyword': {'ignore_above': 256, 'type': 'keyword'}},\n",
      "             'type': 'text'}}\n"
     ]
    }
   ],
   "source": [
    "mapping= es.indices.get_mapping(index=\"my_index\")\n",
    "pprint(mapping[\"my_index\"][\"mappings\"][\"properties\"], indent=2)"
   ]
  },
  {
   "cell_type": "code",
   "execution_count": 8,
   "metadata": {},
   "outputs": [
    {
     "name": "stdout",
     "output_type": "stream",
     "text": [
      "{ 'mappings': { 'properties': { 'content': { 'fields': { 'keyword': { 'ignore_above': 256,\n",
      "                                                                      'type': 'keyword'}},\n",
      "                                             'type': 'text'},\n",
      "                                'created_on': {'type': 'date'},\n",
      "                                'title': { 'fields': { 'keyword': { 'ignore_above': 256,\n",
      "                                                                    'type': 'keyword'}},\n",
      "                                           'type': 'text'}}}}\n"
     ]
    }
   ],
   "source": [
    "pprint(mapping[\"my_index\"], indent=2)"
   ]
  },
  {
   "cell_type": "markdown",
   "metadata": {},
   "source": [
    "-   `manual Mapping` (schema inforcement)\n",
    "- it should be done before adding any document to the index. \n",
    "- it can be done why passing the mapping to the mapping parameter in \n",
    "```python\n",
    "indices.create(index=\"index_name\", mapping=mapping)\n",
    "```\n",
    "- or after creating the document mapping can be inforced using \n",
    "\n",
    "```python\n",
    "indices.put_mapping(index=\"index_name\", body=mapping)\n",
    "```"
   ]
  },
  {
   "cell_type": "code",
   "execution_count": 9,
   "metadata": {},
   "outputs": [],
   "source": [
    "mapping={\n",
    "    \"properties\": {\n",
    "        \"content\": {\n",
    "            \"fields\": {\"keyword\": {\"ignore_above\": 256, \"type\": \"keyword\"}},\n",
    "            \"type\": \"text\",\n",
    "        },\n",
    "        \"created_on\": {\"type\": \"date\"},\n",
    "        \"title\": {\n",
    "            \"fields\": {\"keyword\": {\"ignore_above\": 256, \"type\": \"keyword\"}},\n",
    "            \"type\": \"text\",\n",
    "        },\n",
    "    }\n",
    "}"
   ]
  },
  {
   "cell_type": "markdown",
   "metadata": {},
   "source": [
    "-   creating mapping at the time of index creation"
   ]
  },
  {
   "cell_type": "code",
   "execution_count": 10,
   "metadata": {},
   "outputs": [
    {
     "data": {
      "text/plain": [
       "ObjectApiResponse({'acknowledged': True})"
      ]
     },
     "execution_count": 10,
     "metadata": {},
     "output_type": "execute_result"
    }
   ],
   "source": [
    "es.indices.delete(index=\"my_index\", ignore_unavailable=True)"
   ]
  },
  {
   "cell_type": "code",
   "execution_count": 11,
   "metadata": {},
   "outputs": [
    {
     "data": {
      "text/plain": [
       "ObjectApiResponse({'acknowledged': True, 'shards_acknowledged': True, 'index': 'my_index'})"
      ]
     },
     "execution_count": 11,
     "metadata": {},
     "output_type": "execute_result"
    }
   ],
   "source": [
    "es.indices.create(index=\"my_index\", mappings=mapping)"
   ]
  },
  {
   "cell_type": "code",
   "execution_count": 12,
   "metadata": {},
   "outputs": [
    {
     "data": {
      "text/plain": [
       "{'properties': {'content': {'type': 'text',\n",
       "   'fields': {'keyword': {'type': 'keyword', 'ignore_above': 256}}},\n",
       "  'created_on': {'type': 'date'},\n",
       "  'title': {'type': 'text',\n",
       "   'fields': {'keyword': {'type': 'keyword', 'ignore_above': 256}}}}}"
      ]
     },
     "execution_count": 12,
     "metadata": {},
     "output_type": "execute_result"
    }
   ],
   "source": [
    "es.indices.get_mapping(index=\"my_index\")['my_index'][\"mappings\"]"
   ]
  },
  {
   "cell_type": "markdown",
   "metadata": {},
   "source": [
    "- creating mapping after index creating but before adding document"
   ]
  },
  {
   "cell_type": "code",
   "execution_count": 13,
   "metadata": {},
   "outputs": [
    {
     "data": {
      "text/plain": [
       "ObjectApiResponse({'_index': 'my_index', '_id': 'yt8MEpUBZI6kT9oafVIH', '_version': 1, 'result': 'created', '_shards': {'total': 2, 'successful': 1, 'failed': 0}, '_seq_no': 0, '_primary_term': 1})"
      ]
     },
     "execution_count": 13,
     "metadata": {},
     "output_type": "execute_result"
    }
   ],
   "source": [
    "es.index(index=\"my_index\",document=doc)"
   ]
  },
  {
   "cell_type": "code",
   "execution_count": 14,
   "metadata": {},
   "outputs": [],
   "source": [
    "mapping2={\n",
    "    \"properties\": {\n",
    "        \"content_data\": { #changing the field\n",
    "            \"fields\": {\"keyword\": {\"ignore_above\": 256, \"type\": \"keyword\"}},\n",
    "            \"type\": \"text\",\n",
    "        },\n",
    "        \"created_on\": {\"type\": \"date\"},\n",
    "        \"title\": {\n",
    "            \"fields\": {\"keyword\": {\"ignore_above\": 256, \"type\": \"keyword\"}},\n",
    "            \"type\": \"text\",\n",
    "        },\n",
    "    }\n",
    "}"
   ]
  },
  {
   "cell_type": "code",
   "execution_count": 15,
   "metadata": {},
   "outputs": [
    {
     "data": {
      "text/plain": [
       "ObjectApiResponse({'acknowledged': True})"
      ]
     },
     "execution_count": 15,
     "metadata": {},
     "output_type": "execute_result"
    }
   ],
   "source": [
    "es.indices.put_mapping(index=\"my_index\", body=mapping2)"
   ]
  },
  {
   "cell_type": "code",
   "execution_count": 16,
   "metadata": {},
   "outputs": [
    {
     "name": "stdout",
     "output_type": "stream",
     "text": [
      "{ 'properties': { 'content': { 'fields': { 'keyword': { 'ignore_above': 256,\n",
      "                                                        'type': 'keyword'}},\n",
      "                               'type': 'text'},\n",
      "                  'content_data': { 'fields': { 'keyword': { 'ignore_above': 256,\n",
      "                                                             'type': 'keyword'}},\n",
      "                                    'type': 'text'},\n",
      "                  'created_on': {'type': 'date'},\n",
      "                  'title': { 'fields': { 'keyword': { 'ignore_above': 256,\n",
      "                                                      'type': 'keyword'}},\n",
      "                             'type': 'text'}}}\n"
     ]
    }
   ],
   "source": [
    "pprint(es.indices.get_mapping(index=\"my_index\")[\"my_index\"][\"mappings\"], indent=2)"
   ]
  },
  {
   "cell_type": "markdown",
   "metadata": {},
   "source": [
    "- this show that the schema is updated but the latest schema is not implemented completely... it is just being updated with new fileds"
   ]
  },
  {
   "cell_type": "code",
   "execution_count": 17,
   "metadata": {},
   "outputs": [
    {
     "data": {
      "text/plain": [
       "ObjectApiResponse({'acknowledged': True, 'shards_acknowledged': True, 'index': 'my_index'})"
      ]
     },
     "execution_count": 17,
     "metadata": {},
     "output_type": "execute_result"
    }
   ],
   "source": [
    "es.indices.delete(index=\"my_index\", ignore_unavailable=True)\n",
    "es.indices.create(index=\"my_index\")"
   ]
  },
  {
   "cell_type": "code",
   "execution_count": 18,
   "metadata": {},
   "outputs": [
    {
     "data": {
      "text/plain": [
       "ObjectApiResponse({'acknowledged': True})"
      ]
     },
     "execution_count": 18,
     "metadata": {},
     "output_type": "execute_result"
    }
   ],
   "source": [
    "es.indices.put_mapping(index=\"my_index\", body=mapping)"
   ]
  },
  {
   "cell_type": "code",
   "execution_count": 19,
   "metadata": {},
   "outputs": [
    {
     "name": "stdout",
     "output_type": "stream",
     "text": [
      "{ 'properties': { 'content': { 'fields': { 'keyword': { 'ignore_above': 256,\n",
      "                                                        'type': 'keyword'}},\n",
      "                               'type': 'text'},\n",
      "                  'created_on': {'type': 'date'},\n",
      "                  'title': { 'fields': { 'keyword': { 'ignore_above': 256,\n",
      "                                                      'type': 'keyword'}},\n",
      "                             'type': 'text'}}}\n"
     ]
    }
   ],
   "source": [
    "pprint(es.indices.get_mapping(index=\"my_index\")[\"my_index\"][\"mappings\"],indent=2)"
   ]
  },
  {
   "cell_type": "code",
   "execution_count": null,
   "metadata": {},
   "outputs": [],
   "source": []
  }
 ],
 "metadata": {
  "kernelspec": {
   "display_name": "venv",
   "language": "python",
   "name": "python3"
  },
  "language_info": {
   "codemirror_mode": {
    "name": "ipython",
    "version": 3
   },
   "file_extension": ".py",
   "mimetype": "text/x-python",
   "name": "python",
   "nbconvert_exporter": "python",
   "pygments_lexer": "ipython3",
   "version": "3.11.11"
  }
 },
 "nbformat": 4,
 "nbformat_minor": 2
}
