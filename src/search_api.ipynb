{
 "cells": [
  {
   "cell_type": "markdown",
   "metadata": {},
   "source": [
    "# Search APIs"
   ]
  },
  {
   "cell_type": "code",
   "execution_count": 1,
   "metadata": {},
   "outputs": [],
   "source": [
    "from pprint import pprint\n",
    "from elasticsearch import Elasticsearch"
   ]
  },
  {
   "cell_type": "code",
   "execution_count": 4,
   "metadata": {},
   "outputs": [
    {
     "name": "stdout",
     "output_type": "stream",
     "text": [
      "Connected successfully to the ElasticSearch server !\n",
      "{'cluster_name': 'docker-cluster',\n",
      " 'cluster_uuid': 'XoT9Xm1xR3O6L3zfFdu5nQ',\n",
      " 'name': 'd8153502b8b9',\n",
      " 'tagline': 'You Know, for Search',\n",
      " 'version': {'build_date': '2023-02-13T09:35:20.314882762Z',\n",
      "             'build_flavor': 'default',\n",
      "             'build_hash': '2d58d0f136141f03239816a4e360a8d17b6d8f29',\n",
      "             'build_snapshot': False,\n",
      "             'build_type': 'docker',\n",
      "             'lucene_version': '9.4.2',\n",
      "             'minimum_index_compatibility_version': '7.0.0',\n",
      "             'minimum_wire_compatibility_version': '7.17.0',\n",
      "             'number': '8.6.2'}}\n"
     ]
    }
   ],
   "source": [
    "# create a elastic search client\n",
    "\n",
    "es= Elasticsearch(\"http://localhost:9200\")\n",
    "client_info=es.info()\n",
    "\n",
    "print(\"Connected successfully to the ElasticSearch server !\")\n",
    "pprint(client_info.body)"
   ]
  },
  {
   "cell_type": "code",
   "execution_count": 5,
   "metadata": {},
   "outputs": [],
   "source": [
    "# search all documents"
   ]
  },
  {
   "cell_type": "code",
   "execution_count": 6,
   "metadata": {},
   "outputs": [],
   "source": [
    "search_all_in_all_indices=es.search(\n",
    "    index=\"_all\",\n",
    "    query={\"match_all\":{}}\n",
    ")"
   ]
  },
  {
   "cell_type": "code",
   "execution_count": 13,
   "metadata": {},
   "outputs": [
    {
     "data": {
      "text/plain": [
       "7"
      ]
     },
     "execution_count": 13,
     "metadata": {},
     "output_type": "execute_result"
    }
   ],
   "source": [
    "search_all_in_all_indices.body[\"hits\"][\"hits\"].__len__()"
   ]
  },
  {
   "cell_type": "code",
   "execution_count": 14,
   "metadata": {},
   "outputs": [
    {
     "data": {
      "text/plain": [
       "{'total': {'value': 7, 'relation': 'eq'},\n",
       " 'max_score': 1.0,\n",
       " 'hits': [{'_index': 'bulk_api_index',\n",
       "   '_id': '4',\n",
       "   '_score': 1.0,\n",
       "   '_source': {'field1': 'field 1 value', 'field2': 'field 2 value'}},\n",
       "  {'_index': 'bulk_api_index',\n",
       "   '_id': '_ajeNpUBUdIER6xMfbEd',\n",
       "   '_score': 1.0,\n",
       "   '_source': {'doc': {'field1': 'value31',\n",
       "     'field2': 'value32',\n",
       "     'field3': 3}}},\n",
       "  {'_index': 'bulk_api_index',\n",
       "   '_id': '2',\n",
       "   '_score': 1.0,\n",
       "   '_source': {'doc': {'field3': 134,\n",
       "     'field4': 'hey adding an extra field in the doc'}}},\n",
       "  {'_index': 'update_api_test_index',\n",
       "   '_id': '-6idNpUBUdIER6xM_7HT',\n",
       "   '_score': 1.0,\n",
       "   '_source': {'test_field': 'test content2'}},\n",
       "  {'_index': 'update_api_test_index',\n",
       "   '_id': '_KidNpUBUdIER6xM_7Hc',\n",
       "   '_score': 1.0,\n",
       "   '_source': {'test_field': 'test content3'}},\n",
       "  {'_index': 'update_api_test_index',\n",
       "   '_id': '-qidNpUBUdIER6xM_7Gh',\n",
       "   '_score': 1.0,\n",
       "   '_source': {'test_field': 'updated_data',\n",
       "    'new_field': 'hey this is new_field value 2 after update',\n",
       "    'new_field2': 'hey this is new_field value'}},\n",
       "  {'_index': 'update_api_test_index',\n",
       "   '_id': '1',\n",
       "   '_score': 1.0,\n",
       "   '_source': {'test_field': 'hey this is the test field values for upsert using update'}}]}"
      ]
     },
     "execution_count": 14,
     "metadata": {},
     "output_type": "execute_result"
    }
   ],
   "source": [
    "search_all_in_all_indices.body[\"hits\"]"
   ]
  },
  {
   "cell_type": "code",
   "execution_count": 33,
   "metadata": {},
   "outputs": [],
   "source": []
  },
  {
   "cell_type": "code",
   "execution_count": 37,
   "metadata": {},
   "outputs": [],
   "source": [
    "docs=[\n",
    "    {\n",
    "        \"title\":\"Sample title 1\",\n",
    "        \"text\":\"this is the first sample document text.\",\n",
    "        \"created_on\":'2024-09-22'\n",
    "    },\n",
    "    {\n",
    "        \"title\":\"Sample title 2\",\n",
    "        \"text\":\"Here is another sample of a document text.\",\n",
    "        \"created_on\":'2024-09-24'\n",
    "    },\n",
    "    {\n",
    "        \"title\":\"Sample title 3\",\n",
    "        \"text\":\"the content of the third document goes here\",\n",
    "        \"created_on\":'2024-09-24'\n",
    "    }\n",
    "]"
   ]
  },
  {
   "cell_type": "code",
   "execution_count": 38,
   "metadata": {},
   "outputs": [
    {
     "data": {
      "text/plain": [
       "ObjectApiResponse({'acknowledged': True, 'shards_acknowledged': True, 'index': 'search_index'})"
      ]
     },
     "execution_count": 38,
     "metadata": {},
     "output_type": "execute_result"
    }
   ],
   "source": [
    "# create a search_index\n",
    "\n",
    "es.indices.delete(index=\"search_index\", ignore_unavailable=True)\n",
    "\n",
    "es.indices.create(index=\"search_index\")"
   ]
  },
  {
   "cell_type": "code",
   "execution_count": 39,
   "metadata": {},
   "outputs": [],
   "source": [
    "res_list=[]\n",
    "for doc in docs:\n",
    "    res_list.append(es.index(index=\"search_index\", document=doc).body)"
   ]
  },
  {
   "cell_type": "markdown",
   "metadata": {},
   "source": [
    "### Leaf clauses"
   ]
  },
  {
   "cell_type": "code",
   "execution_count": 46,
   "metadata": {},
   "outputs": [],
   "source": [
    "# search\n",
    "term_res=es.search(\n",
    "    index=\"search_index\",\n",
    "    body={\n",
    "        \"query\":{\n",
    "            \"term\":{\n",
    "                \"created_on\":\"2024-09-24\"\n",
    "            }\n",
    "        }\n",
    "    }\n",
    ")"
   ]
  },
  {
   "cell_type": "code",
   "execution_count": 47,
   "metadata": {},
   "outputs": [],
   "source": [
    "n_hits=term_res.body['hits'][\"total\"]['value']"
   ]
  },
  {
   "cell_type": "code",
   "execution_count": 48,
   "metadata": {},
   "outputs": [
    {
     "name": "stdout",
     "output_type": "stream",
     "text": [
      "found 2 documents in search_index.\n"
     ]
    }
   ],
   "source": [
    "print(f\"found {n_hits} documents in search_index.\")"
   ]
  },
  {
   "cell_type": "code",
   "execution_count": 52,
   "metadata": {},
   "outputs": [],
   "source": [
    "# match query search\n",
    "match_res=es.search(\n",
    "    index=\"search_index\",\n",
    "    body={\n",
    "        \"query\":{\n",
    "            \"match\":{\n",
    "                \"text\":\"document\"\n",
    "            }\n",
    "        }\n",
    "    }\n",
    ")"
   ]
  },
  {
   "cell_type": "code",
   "execution_count": 53,
   "metadata": {},
   "outputs": [
    {
     "name": "stdout",
     "output_type": "stream",
     "text": [
      "found 3 documents in search_index.\n"
     ]
    }
   ],
   "source": [
    "match_count=match_res.body[\"hits\"]['total']['value']\n",
    "print(f\"found {match_count} documents in search_index.\")"
   ]
  },
  {
   "cell_type": "code",
   "execution_count": 58,
   "metadata": {},
   "outputs": [],
   "source": [
    "# range query search\n",
    "range_res=es.search(\n",
    "    index=\"search_index\",\n",
    "    body={\n",
    "        \"query\":{\n",
    "            \"range\":{\n",
    "                \"created_on\":{\n",
    "                    \"gte\":\"2024-09-22\",\n",
    "                    \"lte\":\"2024-09-24\"\n",
    "                }\n",
    "            }\n",
    "        }\n",
    "    }\n",
    ")"
   ]
  },
  {
   "cell_type": "code",
   "execution_count": 59,
   "metadata": {},
   "outputs": [
    {
     "name": "stdout",
     "output_type": "stream",
     "text": [
      "found 3 documents in search_index.\n"
     ]
    }
   ],
   "source": [
    "n_hits=range_res.body['hits']['total']['value']\n",
    "print(f\"found {n_hits} documents in search_index.\")\n"
   ]
  },
  {
   "cell_type": "markdown",
   "metadata": {},
   "source": [
    "### Compound clauses\n",
    "---\n",
    "1.  `bool`:\n",
    "-   Combines multiple queries using boolean logic:\n",
    "    -   `must`, `filter`, `should`, `must_not`\n",
    "-   The field must be mapped to a `text` data type.\n"
   ]
  },
  {
   "cell_type": "code",
   "execution_count": 73,
   "metadata": {},
   "outputs": [],
   "source": [
    "response=es.search(\n",
    "    index=\"search_index\",\n",
    "    body={\n",
    "        \"query\":{\n",
    "            \"bool\":{\n",
    "                \"must\":[\n",
    "                    {\n",
    "                        \"match\":{\n",
    "                            \"text\":\"document\"\n",
    "                        }\n",
    "                    },\n",
    "                    {\n",
    "                        \"range\":{\n",
    "                            \"created_on\":{\n",
    "                                \"gte\":\"2024-09-22\",\n",
    "                                \"lt\":\"2024-09-24\"\n",
    "                            }\n",
    "                        }\n",
    "                    }\n",
    "                ]\n",
    "            }\n",
    "        }\n",
    "    }\n",
    ")"
   ]
  },
  {
   "cell_type": "code",
   "execution_count": 74,
   "metadata": {},
   "outputs": [
    {
     "name": "stdout",
     "output_type": "stream",
     "text": [
      "found 1 documents in search_index.\n"
     ]
    }
   ],
   "source": [
    "n_hits=response.body['hits']['total']['value']\n",
    "\n",
    "print(f\"found {n_hits} documents in search_index.\")\n"
   ]
  },
  {
   "cell_type": "code",
   "execution_count": 81,
   "metadata": {},
   "outputs": [
    {
     "name": "stdout",
     "output_type": "stream",
     "text": [
      "{'_id': '_qiFN5UBUdIER6xMjrGm',\n",
      " '_source': {'created_on': '2024-09-22',\n",
      "             'text': 'this is the first sample document text.',\n",
      "             'title': 'Sample title 1'}}\n"
     ]
    }
   ],
   "source": [
    "for data in response.body['hits']['hits']:\n",
    "    pprint({key:value for key,value in data.items() if key in [\"_id\",\"_source\"]})"
   ]
  },
  {
   "cell_type": "markdown",
   "metadata": {},
   "source": [
    "## aggregations"
   ]
  },
  {
   "cell_type": "markdown",
   "metadata": {},
   "source": [
    " "
   ]
  }
 ],
 "metadata": {
  "kernelspec": {
   "display_name": "venv",
   "language": "python",
   "name": "python3"
  },
  "language_info": {
   "codemirror_mode": {
    "name": "ipython",
    "version": 3
   },
   "file_extension": ".py",
   "mimetype": "text/x-python",
   "name": "python",
   "nbconvert_exporter": "python",
   "pygments_lexer": "ipython3",
   "version": "3.11.11"
  }
 },
 "nbformat": 4,
 "nbformat_minor": 2
}
