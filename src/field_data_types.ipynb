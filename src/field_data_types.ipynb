{
 "cells": [
  {
   "cell_type": "markdown",
   "metadata": {},
   "source": [
    "- In this we will see everything related to `Filed data types`"
   ]
  },
  {
   "cell_type": "markdown",
   "metadata": {},
   "source": [
    "### Common Data-type"
   ]
  },
  {
   "cell_type": "markdown",
   "metadata": {},
   "source": [
    "- Binry datatype"
   ]
  },
  {
   "cell_type": "markdown",
   "metadata": {},
   "source": [
    "![Binary datatypes](../img-src/Storing_image_as_binry.png)"
   ]
  },
  {
   "cell_type": "code",
   "execution_count": 5,
   "metadata": {},
   "outputs": [],
   "source": [
    "import base64"
   ]
  },
  {
   "cell_type": "code",
   "execution_count": 6,
   "metadata": {},
   "outputs": [],
   "source": [
    "from elasticsearch import Elasticsearch\n",
    "import json\n",
    "from pprint import pprint"
   ]
  },
  {
   "cell_type": "markdown",
   "metadata": {},
   "source": [
    "-   create an index"
   ]
  },
  {
   "cell_type": "code",
   "execution_count": 7,
   "metadata": {},
   "outputs": [
    {
     "name": "stdout",
     "output_type": "stream",
     "text": [
      "{'cluster_name': 'docker-cluster',\n",
      " 'cluster_uuid': 'tGYnSe7ISE2SFo0pu1RcHg',\n",
      " 'name': '5d9dbd669d35',\n",
      " 'tagline': 'You Know, for Search',\n",
      " 'version': {'build_date': '2023-02-13T09:35:20.314882762Z',\n",
      "             'build_flavor': 'default',\n",
      "             'build_hash': '2d58d0f136141f03239816a4e360a8d17b6d8f29',\n",
      "             'build_snapshot': False,\n",
      "             'build_type': 'docker',\n",
      "             'lucene_version': '9.4.2',\n",
      "             'minimum_index_compatibility_version': '7.0.0',\n",
      "             'minimum_wire_compatibility_version': '7.17.0',\n",
      "             'number': '8.6.2'}}\n"
     ]
    }
   ],
   "source": [
    "es= Elasticsearch(hosts=\"http://localhost:9200/\")\n",
    "pprint(es.info().body)"
   ]
  },
  {
   "cell_type": "code",
   "execution_count": 8,
   "metadata": {},
   "outputs": [
    {
     "data": {
      "text/plain": [
       "ObjectApiResponse({'acknowledged': True, 'shards_acknowledged': True, 'index': 'test_index'})"
      ]
     },
     "execution_count": 8,
     "metadata": {},
     "output_type": "execute_result"
    }
   ],
   "source": [
    "es.indices.delete(index=\"test_index\", ignore_unavailable= True)\n",
    "\n",
    "es.indices.create(index=\"test_index\")"
   ]
  },
  {
   "cell_type": "markdown",
   "metadata": {},
   "source": [
    "- `test_index` created, Now read and image convert into base64 bitecode and then decode It in utf-8 string for storage"
   ]
  },
  {
   "cell_type": "code",
   "execution_count": 9,
   "metadata": {},
   "outputs": [],
   "source": [
    "image_str_data=\"\"\n",
    "with open('../img-src/test_image.png', \"rb\") as imageFD:\n",
    "    image_binary_data=imageFD.read()\n",
    "    image_str_data= base64.b64encode(image_binary_data).decode(\"utf-8\")\n",
    "\n"
   ]
  },
  {
   "cell_type": "code",
   "execution_count": 10,
   "metadata": {},
   "outputs": [
    {
     "name": "stdout",
     "output_type": "stream",
     "text": [
      "iVBORw0KGgoAAAANSUhEUgAAAyYAAAGeCAYAAABhMRUDAAAABHNCSVQICAgIfAhkiAAAABl0RVh0U29mdHdhcmUAZ25vbWUtc2Ny\n"
     ]
    }
   ],
   "source": [
    "print(image_str_data[:100])"
   ]
  },
  {
   "cell_type": "markdown",
   "metadata": {},
   "source": [
    "-  insert the image str in test_index"
   ]
  },
  {
   "cell_type": "code",
   "execution_count": 11,
   "metadata": {},
   "outputs": [],
   "source": [
    "# convert the image data in a json format\n",
    "doc={\n",
    "    \"image_data\": image_str_data\n",
    "}\n",
    "\n",
    "# store the doc in test_index\n",
    "\n",
    "res=es.index(index=\"test_index\", document=doc)\n",
    "\n"
   ]
  },
  {
   "cell_type": "code",
   "execution_count": 12,
   "metadata": {},
   "outputs": [
    {
     "name": "stdout",
     "output_type": "stream",
     "text": [
      "{'_id': 'fl5dF5UBIxIS9hU_YKGT',\n",
      " '_index': 'test_index',\n",
      " '_primary_term': 1,\n",
      " '_seq_no': 0,\n",
      " '_shards': {'failed': 0, 'successful': 1, 'total': 2},\n",
      " '_version': 1,\n",
      " 'result': 'created'}\n"
     ]
    }
   ],
   "source": [
    "pprint(res.body)"
   ]
  },
  {
   "cell_type": "code",
   "execution_count": 13,
   "metadata": {},
   "outputs": [],
   "source": [
    "# see the automatic mapping\n",
    "infered_mapping=es.indices.get_mapping(index=\"test_index\")[\"test_index\"][\"mappings\"]"
   ]
  },
  {
   "cell_type": "code",
   "execution_count": 14,
   "metadata": {},
   "outputs": [
    {
     "name": "stdout",
     "output_type": "stream",
     "text": [
      "{'properties': {'image_data': {'fields': {'keyword': {'ignore_above': 256,\n",
      "                                                      'type': 'keyword'}},\n",
      "                               'type': 'text'}}}\n"
     ]
    }
   ],
   "source": [
    "pprint(infered_mapping)"
   ]
  },
  {
   "cell_type": "markdown",
   "metadata": {},
   "source": [
    "## JSON object storage"
   ]
  },
  {
   "cell_type": "code",
   "execution_count": null,
   "metadata": {},
   "outputs": [],
   "source": []
  },
  {
   "cell_type": "markdown",
   "metadata": {},
   "source": [
    "# 3.1 Text"
   ]
  },
  {
   "cell_type": "code",
   "execution_count": 15,
   "metadata": {},
   "outputs": [
    {
     "data": {
      "text/plain": [
       "ObjectApiResponse({'acknowledged': True, 'shards_acknowledged': True, 'index': 'test_index'})"
      ]
     },
     "execution_count": 15,
     "metadata": {},
     "output_type": "execute_result"
    }
   ],
   "source": [
    "es.indices.delete(index=\"test_index\", ignore_unavailable= True)\n",
    "mapping={\n",
    "    \"properties\":{\n",
    "        \"email_body\":{\"type\":\"text\"}\n",
    "    }\n",
    "}\n",
    "es.indices.create(index=\"test_index\", mappings=mapping)"
   ]
  },
  {
   "cell_type": "code",
   "execution_count": 16,
   "metadata": {},
   "outputs": [
    {
     "name": "stdout",
     "output_type": "stream",
     "text": [
      "{'_id': 'f15dF5UBIxIS9hU_YaH0',\n",
      " '_index': 'test_index',\n",
      " '_primary_term': 1,\n",
      " '_seq_no': 0,\n",
      " '_shards': {'failed': 0, 'successful': 1, 'total': 2},\n",
      " '_version': 1,\n",
      " 'result': 'created'}\n"
     ]
    }
   ],
   "source": [
    "doc={\n",
    "    \"email_body\":\"Hello, this is a test email body. regards, verma\"\n",
    "}\n",
    "res=es.index(index=\"test_index\", document=doc)\n",
    "pprint(res.body)"
   ]
  },
  {
   "cell_type": "code",
   "execution_count": 17,
   "metadata": {},
   "outputs": [
    {
     "data": {
      "text/plain": [
       "{'properties': {'email_body': {'type': 'text'}}}"
      ]
     },
     "execution_count": 17,
     "metadata": {},
     "output_type": "execute_result"
    }
   ],
   "source": [
    "es.indices.get_mapping(index=\"test_index\")['test_index']['mappings']"
   ]
  },
  {
   "cell_type": "markdown",
   "metadata": {},
   "source": [
    "# 3.2 Completion"
   ]
  },
  {
   "cell_type": "code",
   "execution_count": 18,
   "metadata": {},
   "outputs": [
    {
     "data": {
      "text/plain": [
       "ObjectApiResponse({'acknowledged': True, 'shards_acknowledged': True, 'index': 'test_index'})"
      ]
     },
     "execution_count": 18,
     "metadata": {},
     "output_type": "execute_result"
    }
   ],
   "source": [
    "es.indices.delete(index=\"test_index\", ignore_unavailable=True)\n",
    "mapping={\n",
    "    \"properties\":{\n",
    "        \"suggest\":{ #compulsory field\n",
    "            \"type\":\"completion\"\n",
    "        }\n",
    "    }\n",
    "}\n",
    "es.indices.create(index=\"test_index\", mappings=mapping)"
   ]
  },
  {
   "cell_type": "code",
   "execution_count": 19,
   "metadata": {},
   "outputs": [],
   "source": [
    "doc1={\n",
    "    \"suggestion\":{\n",
    "        \"input\":[\"Mars\", \"Planet\"] #copulsory field\n",
    "    }\n",
    "}\n",
    "doc2={\n",
    "    \"suggestion\":{\n",
    "        \"input\":[\"Moon\", \"Satellite\"] #copulsory field\n",
    "    }\n",
    "}\n",
    "\n",
    "res1=es.index(index=\"test_index\", document=doc1)\n",
    "res2=es.index(index=\"test_index\", document=doc1)"
   ]
  },
  {
   "cell_type": "code",
   "execution_count": 20,
   "metadata": {},
   "outputs": [
    {
     "name": "stdout",
     "output_type": "stream",
     "text": [
      "{'_id': 'gF5dF5UBIxIS9hU_YqGx',\n",
      " '_index': 'test_index',\n",
      " '_primary_term': 1,\n",
      " '_seq_no': 0,\n",
      " '_shards': {'failed': 0, 'successful': 1, 'total': 2},\n",
      " '_version': 1,\n",
      " 'result': 'created'}\n",
      "{'_id': 'gV5dF5UBIxIS9hU_YqHW',\n",
      " '_index': 'test_index',\n",
      " '_primary_term': 1,\n",
      " '_seq_no': 1,\n",
      " '_shards': {'failed': 0, 'successful': 1, 'total': 2},\n",
      " '_version': 1,\n",
      " 'result': 'created'}\n"
     ]
    }
   ],
   "source": [
    "pprint(res1.body)\n",
    "pprint(res2.body)"
   ]
  },
  {
   "cell_type": "markdown",
   "metadata": {},
   "source": [
    "# 4.1 Geo point"
   ]
  },
  {
   "cell_type": "code",
   "execution_count": 21,
   "metadata": {},
   "outputs": [
    {
     "data": {
      "text/plain": [
       "ObjectApiResponse({'acknowledged': True, 'shards_acknowledged': True, 'index': 'geo_point_index'})"
      ]
     },
     "execution_count": 21,
     "metadata": {},
     "output_type": "execute_result"
    }
   ],
   "source": [
    "es.indices.delete(index=\"geo_point_index\", ignore_unavailable= True)\n",
    "mappings={\n",
    "    \"properties\":{\n",
    "        \"location\":{\n",
    "            \"type\":\"geo_point\"\n",
    "        }\n",
    "    }\n",
    "}\n",
    "es.indices.create(index=\"geo_point_index\", mappings=mappings)"
   ]
  },
  {
   "cell_type": "code",
   "execution_count": 27,
   "metadata": {},
   "outputs": [],
   "source": [
    "geo_doc={\n",
    "    \"text\":\"Geopoint as object using GeoJSON object\",\n",
    "    \"location\":{\n",
    "        \"type\":\"Point\",\n",
    "        \"coordinates\":[\n",
    "            -71.34,\n",
    "            41.12\n",
    "        ]\n",
    "    }\n",
    "}\n",
    "res=es.index(index=\"geo_point_index\", document=geo_doc)"
   ]
  },
  {
   "cell_type": "code",
   "execution_count": 28,
   "metadata": {},
   "outputs": [
    {
     "name": "stdout",
     "output_type": "stream",
     "text": [
      "{'_id': 'hF57F5UBIxIS9hU_aaFE',\n",
      " '_index': 'geo_point_index',\n",
      " '_primary_term': 1,\n",
      " '_seq_no': 2,\n",
      " '_shards': {'failed': 0, 'successful': 1, 'total': 2},\n",
      " '_version': 1,\n",
      " 'result': 'created'}\n"
     ]
    }
   ],
   "source": [
    "pprint(res.body)"
   ]
  },
  {
   "cell_type": "markdown",
   "metadata": {},
   "source": [
    "# 4.2 Geo shape"
   ]
  },
  {
   "cell_type": "code",
   "execution_count": 29,
   "metadata": {},
   "outputs": [
    {
     "data": {
      "text/plain": [
       "ObjectApiResponse({'acknowledged': True, 'shards_acknowledged': True, 'index': 'geo_shape_index'})"
      ]
     },
     "execution_count": 29,
     "metadata": {},
     "output_type": "execute_result"
    }
   ],
   "source": [
    "es.indices.delete(index=\"geo_shape_index\", ignore_unavailable=True)\n",
    "mappings={\n",
    "    \"properties\":{\n",
    "        \"location\":{\"type\":\"geo_shape\"}\n",
    "    }\n",
    "}\n",
    "es.indices.create(index=\"geo_shape_index\", mappings=mappings)"
   ]
  },
  {
   "cell_type": "code",
   "execution_count": 41,
   "metadata": {},
   "outputs": [],
   "source": [
    "doc1={\n",
    "  \"location\": {\n",
    "    \"type\": \"linestring\",\n",
    "    \"coordinates\": [\n",
    "      [13.400544, 52.530286],\n",
    "      [13.402344, 52.532984],\n",
    "      [13.403123, 52.534567]\n",
    "    ]\n",
    "  }\n",
    "}\n",
    "\n",
    "doc2={\n",
    "    \"location\": {\n",
    "        \"type\": \"polygon\",\n",
    "        \"coordinates\":[\n",
    "            [\n",
    "                [13.400544, 52.530286],\n",
    "                [13.402344, 52.532984],\n",
    "                [13.403123, 52.534567],\n",
    "                [13.400544, 52.530286]  # Closing the polygon by repeating the first coordinate\n",
    "            ]\n",
    "        ]\n",
    "  }\n",
    "}\n"
   ]
  },
  {
   "cell_type": "code",
   "execution_count": 42,
   "metadata": {},
   "outputs": [],
   "source": [
    "res1=es.index(index=\"geo_shape_index\",document=doc1)\n",
    "res2=es.index(index=\"geo_shape_index\",document=doc2)"
   ]
  },
  {
   "cell_type": "code",
   "execution_count": 43,
   "metadata": {},
   "outputs": [
    {
     "name": "stdout",
     "output_type": "stream",
     "text": [
      "{'_id': 'i16NF5UBIxIS9hU_2aEy',\n",
      " '_index': 'geo_shape_index',\n",
      " '_primary_term': 1,\n",
      " '_seq_no': 2,\n",
      " '_shards': {'failed': 0, 'successful': 1, 'total': 2},\n",
      " '_version': 1,\n",
      " 'result': 'created'}\n",
      "{'_id': 'jF6NF5UBIxIS9hU_2aFO',\n",
      " '_index': 'geo_shape_index',\n",
      " '_primary_term': 1,\n",
      " '_seq_no': 3,\n",
      " '_shards': {'failed': 0, 'successful': 1, 'total': 2},\n",
      " '_version': 1,\n",
      " 'result': 'created'}\n"
     ]
    }
   ],
   "source": [
    "pprint(res1.body)\n",
    "pprint(res2.body)"
   ]
  },
  {
   "cell_type": "markdown",
   "metadata": {},
   "source": [
    "# 4.3 Point (cartesian)"
   ]
  },
  {
   "cell_type": "code",
   "execution_count": 44,
   "metadata": {},
   "outputs": [
    {
     "data": {
      "text/plain": [
       "ObjectApiResponse({'acknowledged': True, 'shards_acknowledged': True, 'index': 'point_index'})"
      ]
     },
     "execution_count": 44,
     "metadata": {},
     "output_type": "execute_result"
    }
   ],
   "source": [
    "es.indices.delete(index=\"point_index\", ignore_unavailable=True)\n",
    "mapping={\n",
    "    \"properties\":{\n",
    "        \"position\":{\n",
    "            \"type\":\"point\"\n",
    "        }\n",
    "    }\n",
    "}\n",
    "es.indices.create(index=\"point_index\", mappings=mapping)"
   ]
  },
  {
   "cell_type": "code",
   "execution_count": 45,
   "metadata": {},
   "outputs": [],
   "source": [
    "doc={\n",
    "    \"position\":{\n",
    "        \"type\":\"Point\",\n",
    "        \"coordinates\":[\n",
    "            -324.45,\n",
    "            324.232\n",
    "        ]\n",
    "    }\n",
    "}"
   ]
  },
  {
   "cell_type": "code",
   "execution_count": 46,
   "metadata": {},
   "outputs": [],
   "source": [
    "res=es.index(index=\"point_index\", document=doc)"
   ]
  },
  {
   "cell_type": "code",
   "execution_count": 47,
   "metadata": {},
   "outputs": [
    {
     "name": "stdout",
     "output_type": "stream",
     "text": [
      "{'_id': 'jV6SF5UBIxIS9hU_naH-',\n",
      " '_index': 'point_index',\n",
      " '_primary_term': 1,\n",
      " '_seq_no': 0,\n",
      " '_shards': {'failed': 0, 'successful': 1, 'total': 2},\n",
      " '_version': 1,\n",
      " 'result': 'created'}\n"
     ]
    }
   ],
   "source": [
    "pprint(res.body)"
   ]
  },
  {
   "cell_type": "code",
   "execution_count": null,
   "metadata": {},
   "outputs": [],
   "source": []
  }
 ],
 "metadata": {
  "kernelspec": {
   "display_name": "venv",
   "language": "python",
   "name": "python3"
  },
  "language_info": {
   "codemirror_mode": {
    "name": "ipython",
    "version": 3
   },
   "file_extension": ".py",
   "mimetype": "text/x-python",
   "name": "python",
   "nbconvert_exporter": "python",
   "pygments_lexer": "ipython3",
   "version": "3.11.11"
  }
 },
 "nbformat": 4,
 "nbformat_minor": 2
}
