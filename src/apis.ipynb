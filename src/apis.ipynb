{
 "cells": [
  {
   "cell_type": "markdown",
   "metadata": {},
   "source": [
    "# APIs"
   ]
  },
  {
   "cell_type": "code",
   "execution_count": 18,
   "metadata": {},
   "outputs": [],
   "source": [
    "from elasticsearch import Elasticsearch\n",
    "import json\n",
    "from pprint import pprint"
   ]
  },
  {
   "cell_type": "code",
   "execution_count": 19,
   "metadata": {},
   "outputs": [
    {
     "name": "stdout",
     "output_type": "stream",
     "text": [
      "Connected to Elastic-Search !\n",
      "{'cluster_name': 'docker-cluster',\n",
      " 'cluster_uuid': 'tGYnSe7ISE2SFo0pu1RcHg',\n",
      " 'name': '5d9dbd669d35',\n",
      " 'tagline': 'You Know, for Search',\n",
      " 'version': {'build_date': '2023-02-13T09:35:20.314882762Z',\n",
      "             'build_flavor': 'default',\n",
      "             'build_hash': '2d58d0f136141f03239816a4e360a8d17b6d8f29',\n",
      "             'build_snapshot': False,\n",
      "             'build_type': 'docker',\n",
      "             'lucene_version': '9.4.2',\n",
      "             'minimum_index_compatibility_version': '7.0.0',\n",
      "             'minimum_wire_compatibility_version': '7.17.0',\n",
      "             'number': '8.6.2'}}\n"
     ]
    }
   ],
   "source": [
    "es=Elasticsearch(hosts='http://localhost:9200/')\n",
    "client_info=es.info()\n",
    "print(\"Connected to Elastic-Search !\")\n",
    "pprint(client_info.body)"
   ]
  },
  {
   "cell_type": "code",
   "execution_count": 20,
   "metadata": {},
   "outputs": [
    {
     "data": {
      "text/plain": [
       "ObjectApiResponse({'acknowledged': True})"
      ]
     },
     "execution_count": 20,
     "metadata": {},
     "output_type": "execute_result"
    }
   ],
   "source": [
    "es.indices.delete(index=\"test_index\", ignore_unavailable=True)"
   ]
  },
  {
   "cell_type": "code",
   "execution_count": 21,
   "metadata": {},
   "outputs": [],
   "source": [
    "res=es.indices.create(index=\"test_index\")"
   ]
  },
  {
   "cell_type": "code",
   "execution_count": 22,
   "metadata": {},
   "outputs": [],
   "source": [
    "docs=[\n",
    "    {\n",
    "        \"test_field\":\"test content1\"\n",
    "    },\n",
    "    {\n",
    "        \"test_field\":\"test content2\"\n",
    "    },\n",
    "    {\n",
    "        \"test_field\":\"test content3\"\n",
    "    }\n",
    "]"
   ]
  },
  {
   "cell_type": "code",
   "execution_count": 23,
   "metadata": {},
   "outputs": [],
   "source": [
    "res_list=[]\n",
    "for doc in docs:\n",
    "    res= es.index(index=\"test_index\", document=doc)\n",
    "    res_list.append(res.body)"
   ]
  },
  {
   "cell_type": "code",
   "execution_count": 24,
   "metadata": {},
   "outputs": [
    {
     "data": {
      "text/plain": [
       "[{'_index': 'test_index',\n",
       "  '_id': 'ml5vGJUBIxIS9hU_1qHR',\n",
       "  '_version': 1,\n",
       "  'result': 'created',\n",
       "  '_shards': {'total': 2, 'successful': 1, 'failed': 0},\n",
       "  '_seq_no': 0,\n",
       "  '_primary_term': 1},\n",
       " {'_index': 'test_index',\n",
       "  '_id': 'm15vGJUBIxIS9hU_16EU',\n",
       "  '_version': 1,\n",
       "  'result': 'created',\n",
       "  '_shards': {'total': 2, 'successful': 1, 'failed': 0},\n",
       "  '_seq_no': 1,\n",
       "  '_primary_term': 1},\n",
       " {'_index': 'test_index',\n",
       "  '_id': 'nF5vGJUBIxIS9hU_16Ec',\n",
       "  '_version': 1,\n",
       "  'result': 'created',\n",
       "  '_shards': {'total': 2, 'successful': 1, 'failed': 0},\n",
       "  '_seq_no': 2,\n",
       "  '_primary_term': 1}]"
      ]
     },
     "execution_count": 24,
     "metadata": {},
     "output_type": "execute_result"
    }
   ],
   "source": [
    "res_list"
   ]
  },
  {
   "cell_type": "markdown",
   "metadata": {},
   "source": [
    "## 1. Count"
   ]
  },
  {
   "cell_type": "code",
   "execution_count": 27,
   "metadata": {},
   "outputs": [],
   "source": [
    "res=es.count(index=\"test_index\")"
   ]
  },
  {
   "cell_type": "code",
   "execution_count": 28,
   "metadata": {},
   "outputs": [
    {
     "name": "stdout",
     "output_type": "stream",
     "text": [
      "{'_shards': {'failed': 0, 'skipped': 0, 'successful': 1, 'total': 1},\n",
      " 'count': 3}\n"
     ]
    }
   ],
   "source": [
    "pprint(res.body)"
   ]
  },
  {
   "cell_type": "markdown",
   "metadata": {},
   "source": [
    "## 2. Exists"
   ]
  },
  {
   "cell_type": "code",
   "execution_count": null,
   "metadata": {},
   "outputs": [
    {
     "name": "stdout",
     "output_type": "stream",
     "text": [
      "True\n"
     ]
    }
   ],
   "source": [
    "# check if the index exists or not\n",
    "res=es.indices.exists(index=\"test_index\") # return boolean\n",
    "pprint(res.body)"
   ]
  },
  {
   "cell_type": "code",
   "execution_count": 31,
   "metadata": {},
   "outputs": [
    {
     "name": "stdout",
     "output_type": "stream",
     "text": [
      "False\n"
     ]
    }
   ],
   "source": [
    "# check with invalid index\n",
    "res=es.indices.exists(index=\"invalid_index\") # return boolean\n",
    "pprint(res.body)"
   ]
  },
  {
   "cell_type": "code",
   "execution_count": 33,
   "metadata": {},
   "outputs": [
    {
     "name": "stdout",
     "output_type": "stream",
     "text": [
      "True\n"
     ]
    }
   ],
   "source": [
    "# check if the document exists in the index or not\n",
    "\n",
    "res=es.exists(index=res_list[0][\"_index\"], id=res_list[0][\"_id\"])\n",
    "pprint(res.body)"
   ]
  },
  {
   "cell_type": "code",
   "execution_count": null,
   "metadata": {},
   "outputs": [],
   "source": []
  }
 ],
 "metadata": {
  "kernelspec": {
   "display_name": "venv",
   "language": "python",
   "name": "python3"
  },
  "language_info": {
   "codemirror_mode": {
    "name": "ipython",
    "version": 3
   },
   "file_extension": ".py",
   "mimetype": "text/x-python",
   "name": "python",
   "nbconvert_exporter": "python",
   "pygments_lexer": "ipython3",
   "version": "3.11.11"
  }
 },
 "nbformat": 4,
 "nbformat_minor": 2
}
