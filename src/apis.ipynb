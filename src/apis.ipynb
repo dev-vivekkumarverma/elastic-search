{
 "cells": [
  {
   "cell_type": "markdown",
   "metadata": {},
   "source": [
    "# APIs"
   ]
  },
  {
   "cell_type": "code",
   "execution_count": 3,
   "metadata": {},
   "outputs": [],
   "source": [
    "from elasticsearch import Elasticsearch\n",
    "import json\n",
    "from pprint import pprint"
   ]
  },
  {
   "cell_type": "code",
   "execution_count": 4,
   "metadata": {},
   "outputs": [
    {
     "name": "stdout",
     "output_type": "stream",
     "text": [
      "Connected to Elastic-Search !\n",
      "{'cluster_name': 'docker-cluster',\n",
      " 'cluster_uuid': 'XoT9Xm1xR3O6L3zfFdu5nQ',\n",
      " 'name': 'd8153502b8b9',\n",
      " 'tagline': 'You Know, for Search',\n",
      " 'version': {'build_date': '2023-02-13T09:35:20.314882762Z',\n",
      "             'build_flavor': 'default',\n",
      "             'build_hash': '2d58d0f136141f03239816a4e360a8d17b6d8f29',\n",
      "             'build_snapshot': False,\n",
      "             'build_type': 'docker',\n",
      "             'lucene_version': '9.4.2',\n",
      "             'minimum_index_compatibility_version': '7.0.0',\n",
      "             'minimum_wire_compatibility_version': '7.17.0',\n",
      "             'number': '8.6.2'}}\n"
     ]
    }
   ],
   "source": [
    "es=Elasticsearch(hosts='http://localhost:9200/')\n",
    "client_info=es.info()\n",
    "print(\"Connected to Elastic-Search !\")\n",
    "pprint(client_info.body)"
   ]
  },
  {
   "cell_type": "code",
   "execution_count": 20,
   "metadata": {},
   "outputs": [
    {
     "data": {
      "text/plain": [
       "ObjectApiResponse({'acknowledged': True})"
      ]
     },
     "execution_count": 20,
     "metadata": {},
     "output_type": "execute_result"
    }
   ],
   "source": [
    "es.indices.delete(index=\"test_index\", ignore_unavailable=True)"
   ]
  },
  {
   "cell_type": "code",
   "execution_count": 21,
   "metadata": {},
   "outputs": [],
   "source": [
    "res=es.indices.create(index=\"test_index\")"
   ]
  },
  {
   "cell_type": "code",
   "execution_count": 22,
   "metadata": {},
   "outputs": [],
   "source": [
    "docs=[\n",
    "    {\n",
    "        \"test_field\":\"test content1\"\n",
    "    },\n",
    "    {\n",
    "        \"test_field\":\"test content2\"\n",
    "    },\n",
    "    {\n",
    "        \"test_field\":\"test content3\"\n",
    "    }\n",
    "]"
   ]
  },
  {
   "cell_type": "code",
   "execution_count": 23,
   "metadata": {},
   "outputs": [],
   "source": [
    "res_list=[]\n",
    "for doc in docs:\n",
    "    res= es.index(index=\"test_index\", document=doc)\n",
    "    res_list.append(res.body)"
   ]
  },
  {
   "cell_type": "code",
   "execution_count": 24,
   "metadata": {},
   "outputs": [
    {
     "data": {
      "text/plain": [
       "[{'_index': 'test_index',\n",
       "  '_id': 'ml5vGJUBIxIS9hU_1qHR',\n",
       "  '_version': 1,\n",
       "  'result': 'created',\n",
       "  '_shards': {'total': 2, 'successful': 1, 'failed': 0},\n",
       "  '_seq_no': 0,\n",
       "  '_primary_term': 1},\n",
       " {'_index': 'test_index',\n",
       "  '_id': 'm15vGJUBIxIS9hU_16EU',\n",
       "  '_version': 1,\n",
       "  'result': 'created',\n",
       "  '_shards': {'total': 2, 'successful': 1, 'failed': 0},\n",
       "  '_seq_no': 1,\n",
       "  '_primary_term': 1},\n",
       " {'_index': 'test_index',\n",
       "  '_id': 'nF5vGJUBIxIS9hU_16Ec',\n",
       "  '_version': 1,\n",
       "  'result': 'created',\n",
       "  '_shards': {'total': 2, 'successful': 1, 'failed': 0},\n",
       "  '_seq_no': 2,\n",
       "  '_primary_term': 1}]"
      ]
     },
     "execution_count": 24,
     "metadata": {},
     "output_type": "execute_result"
    }
   ],
   "source": [
    "res_list"
   ]
  },
  {
   "cell_type": "markdown",
   "metadata": {},
   "source": [
    "## 1. Count"
   ]
  },
  {
   "cell_type": "code",
   "execution_count": 27,
   "metadata": {},
   "outputs": [],
   "source": [
    "res=es.count(index=\"test_index\")"
   ]
  },
  {
   "cell_type": "code",
   "execution_count": 28,
   "metadata": {},
   "outputs": [
    {
     "name": "stdout",
     "output_type": "stream",
     "text": [
      "{'_shards': {'failed': 0, 'skipped': 0, 'successful': 1, 'total': 1},\n",
      " 'count': 3}\n"
     ]
    }
   ],
   "source": [
    "pprint(res.body)"
   ]
  },
  {
   "cell_type": "markdown",
   "metadata": {},
   "source": [
    "## 2. Exists"
   ]
  },
  {
   "cell_type": "code",
   "execution_count": null,
   "metadata": {},
   "outputs": [
    {
     "name": "stdout",
     "output_type": "stream",
     "text": [
      "True\n"
     ]
    }
   ],
   "source": [
    "# check if the index exists or not\n",
    "res=es.indices.exists(index=\"test_index\") # return boolean\n",
    "pprint(res.body)"
   ]
  },
  {
   "cell_type": "code",
   "execution_count": 31,
   "metadata": {},
   "outputs": [
    {
     "name": "stdout",
     "output_type": "stream",
     "text": [
      "False\n"
     ]
    }
   ],
   "source": [
    "# check with invalid index\n",
    "res=es.indices.exists(index=\"invalid_index\") # return boolean\n",
    "pprint(res.body)"
   ]
  },
  {
   "cell_type": "code",
   "execution_count": 33,
   "metadata": {},
   "outputs": [
    {
     "name": "stdout",
     "output_type": "stream",
     "text": [
      "True\n"
     ]
    }
   ],
   "source": [
    "# check if the document exists in the index or not\n",
    "\n",
    "res=es.exists(index=res_list[0][\"_index\"], id=res_list[0][\"_id\"])\n",
    "pprint(res.body)"
   ]
  },
  {
   "cell_type": "markdown",
   "metadata": {},
   "source": [
    "# Update API"
   ]
  },
  {
   "cell_type": "code",
   "execution_count": 6,
   "metadata": {},
   "outputs": [
    {
     "data": {
      "text/plain": [
       "ObjectApiResponse({'acknowledged': True, 'shards_acknowledged': True, 'index': 'update_api_test_index'})"
      ]
     },
     "execution_count": 6,
     "metadata": {},
     "output_type": "execute_result"
    }
   ],
   "source": [
    "# delete the update_api_test_index index if already exists\n",
    "es.indices.delete(index=\"update_api_test_index\", ignore_unavailable=True)\n",
    "# create an index\n",
    "es.indices.create(index=\"update_api_test_index\")"
   ]
  },
  {
   "cell_type": "code",
   "execution_count": 7,
   "metadata": {},
   "outputs": [],
   "source": [
    "docs=[\n",
    "    {\n",
    "        \"test_field\":\"test content1\"\n",
    "    },\n",
    "    {\n",
    "        \"test_field\":\"test content2\"\n",
    "    },\n",
    "    {\n",
    "        \"test_field\":\"test content3\"\n",
    "    }\n",
    "]"
   ]
  },
  {
   "cell_type": "code",
   "execution_count": 8,
   "metadata": {},
   "outputs": [],
   "source": [
    "res_list=[]\n",
    "for doc in docs:\n",
    "    res_list.append(es.index(index=\"update_api_test_index\", document=doc).body)"
   ]
  },
  {
   "cell_type": "code",
   "execution_count": 12,
   "metadata": {},
   "outputs": [
    {
     "name": "stdout",
     "output_type": "stream",
     "text": [
      "=> document count :: 3\n"
     ]
    }
   ],
   "source": [
    "print(\"=> document count ::\",es.count(index=\"update_api_test_index\").body['count'])"
   ]
  },
  {
   "cell_type": "code",
   "execution_count": 15,
   "metadata": {},
   "outputs": [],
   "source": [
    "# use update api for updating the value of a record\n",
    "res_update_field_value=es.update(\n",
    "    index=\"update_api_test_index\",\n",
    "    id=res_list[0][\"_id\"],\n",
    "    doc={\n",
    "        \"test_field\":\"updated_data\"\n",
    "    }\n",
    ")"
   ]
  },
  {
   "cell_type": "code",
   "execution_count": 16,
   "metadata": {},
   "outputs": [
    {
     "data": {
      "text/plain": [
       "{'_index': 'update_api_test_index',\n",
       " '_id': '-qidNpUBUdIER6xM_7Gh',\n",
       " '_version': 2,\n",
       " 'result': 'updated',\n",
       " '_shards': {'total': 2, 'successful': 1, 'failed': 0},\n",
       " '_seq_no': 3,\n",
       " '_primary_term': 1}"
      ]
     },
     "execution_count": 16,
     "metadata": {},
     "output_type": "execute_result"
    }
   ],
   "source": [
    "res_update_field_value.body"
   ]
  },
  {
   "cell_type": "code",
   "execution_count": 18,
   "metadata": {},
   "outputs": [
    {
     "data": {
      "text/plain": [
       "{'_index': 'update_api_test_index',\n",
       " '_id': '-qidNpUBUdIER6xM_7Gh',\n",
       " '_version': 2,\n",
       " '_seq_no': 3,\n",
       " '_primary_term': 1,\n",
       " 'found': True,\n",
       " '_source': {'test_field': 'updated_data'}}"
      ]
     },
     "execution_count": 18,
     "metadata": {},
     "output_type": "execute_result"
    }
   ],
   "source": [
    "es.get(index=\"update_api_test_index\",id=res_list[0][\"_id\"]).body"
   ]
  },
  {
   "cell_type": "code",
   "execution_count": 28,
   "metadata": {},
   "outputs": [],
   "source": [
    "# add new field using doc/ script parameter\n",
    "\n",
    "new_field_added_to_doc_res=es.update(\n",
    "    index=\"update_api_test_index\",\n",
    "    id=res_list[0][\"_id\"],\n",
    "    doc={\n",
    "        \"new_field2\":\"hey this is new_field value\"\n",
    "    }\n",
    ")"
   ]
  },
  {
   "cell_type": "code",
   "execution_count": 29,
   "metadata": {},
   "outputs": [
    {
     "data": {
      "text/plain": [
       "{'_index': 'update_api_test_index',\n",
       " '_id': '-qidNpUBUdIER6xM_7Gh',\n",
       " '_version': 5,\n",
       " 'result': 'updated',\n",
       " '_shards': {'total': 2, 'successful': 1, 'failed': 0},\n",
       " '_seq_no': 6,\n",
       " '_primary_term': 1}"
      ]
     },
     "execution_count": 29,
     "metadata": {},
     "output_type": "execute_result"
    }
   ],
   "source": [
    "new_field_added_to_doc_res.body"
   ]
  },
  {
   "cell_type": "code",
   "execution_count": 23,
   "metadata": {},
   "outputs": [
    {
     "data": {
      "text/plain": [
       "{'_index': 'update_api_test_index',\n",
       " '_id': '-qidNpUBUdIER6xM_7Gh',\n",
       " '_version': 3,\n",
       " '_seq_no': 4,\n",
       " '_primary_term': 1,\n",
       " 'found': True,\n",
       " '_source': {'test_field': 'updated_data',\n",
       "  'new_field': 'hey this is new_field value'}}"
      ]
     },
     "execution_count": 23,
     "metadata": {},
     "output_type": "execute_result"
    }
   ],
   "source": [
    "es.get(index=\"update_api_test_index\",id=res_list[0][\"_id\"]).body"
   ]
  },
  {
   "cell_type": "code",
   "execution_count": 25,
   "metadata": {},
   "outputs": [],
   "source": [
    "new_field_value_update_res=es.update(\n",
    "    index=\"update_api_test_index\",\n",
    "    id=res_list[0][\"_id\"],\n",
    "    doc={\n",
    "        \"new_field\":\"hey this is new_field value 2 after update\"\n",
    "    }\n",
    ")"
   ]
  },
  {
   "cell_type": "code",
   "execution_count": 26,
   "metadata": {},
   "outputs": [
    {
     "data": {
      "text/plain": [
       "{'_index': 'update_api_test_index',\n",
       " '_id': '-qidNpUBUdIER6xM_7Gh',\n",
       " '_version': 4,\n",
       " 'result': 'noop',\n",
       " '_shards': {'total': 0, 'successful': 0, 'failed': 0},\n",
       " '_seq_no': 5,\n",
       " '_primary_term': 1}"
      ]
     },
     "execution_count": 26,
     "metadata": {},
     "output_type": "execute_result"
    }
   ],
   "source": [
    "new_field_value_update_res.body"
   ]
  },
  {
   "cell_type": "code",
   "execution_count": 30,
   "metadata": {},
   "outputs": [
    {
     "data": {
      "text/plain": [
       "{'_index': 'update_api_test_index',\n",
       " '_id': '-qidNpUBUdIER6xM_7Gh',\n",
       " '_version': 5,\n",
       " '_seq_no': 6,\n",
       " '_primary_term': 1,\n",
       " 'found': True,\n",
       " '_source': {'test_field': 'updated_data',\n",
       "  'new_field': 'hey this is new_field value 2 after update',\n",
       "  'new_field2': 'hey this is new_field value'}}"
      ]
     },
     "execution_count": 30,
     "metadata": {},
     "output_type": "execute_result"
    }
   ],
   "source": [
    "es.get(index=\"update_api_test_index\",id=res_list[0][\"_id\"]).body"
   ]
  },
  {
   "cell_type": "code",
   "execution_count": 32,
   "metadata": {},
   "outputs": [],
   "source": [
    "# perform upsert operation in case of document does not exists\n",
    "\n",
    "upsert_res=es.update(\n",
    "    index=\"update_api_test_index\",\n",
    "    id=\"1\",\n",
    "    doc={\n",
    "        \"test_field\":\"hey this is the test field values for upsert using update\"\n",
    "    },\n",
    "    doc_as_upsert=True\n",
    ")"
   ]
  },
  {
   "cell_type": "code",
   "execution_count": 33,
   "metadata": {},
   "outputs": [
    {
     "data": {
      "text/plain": [
       "{'_index': 'update_api_test_index',\n",
       " '_id': '1',\n",
       " '_version': 1,\n",
       " 'result': 'created',\n",
       " '_shards': {'total': 2, 'successful': 1, 'failed': 0},\n",
       " '_seq_no': 7,\n",
       " '_primary_term': 1}"
      ]
     },
     "execution_count": 33,
     "metadata": {},
     "output_type": "execute_result"
    }
   ],
   "source": [
    "upsert_res.body"
   ]
  },
  {
   "cell_type": "code",
   "execution_count": 35,
   "metadata": {},
   "outputs": [
    {
     "data": {
      "text/plain": [
       "4"
      ]
     },
     "execution_count": 35,
     "metadata": {},
     "output_type": "execute_result"
    }
   ],
   "source": [
    "es.count(index=\"update_api_test_index\").body[\"count\"]"
   ]
  },
  {
   "cell_type": "code",
   "execution_count": 38,
   "metadata": {},
   "outputs": [
    {
     "data": {
      "text/plain": [
       "{'_index': 'update_api_test_index',\n",
       " '_id': '1',\n",
       " '_version': 1,\n",
       " '_seq_no': 7,\n",
       " '_primary_term': 1,\n",
       " 'found': True,\n",
       " '_source': {'test_field': 'hey this is the test field values for upsert using update'}}"
      ]
     },
     "execution_count": 38,
     "metadata": {},
     "output_type": "execute_result"
    }
   ],
   "source": [
    "es.get(index=\"update_api_test_index\", id=\"1\").body"
   ]
  },
  {
   "cell_type": "code",
   "execution_count": null,
   "metadata": {},
   "outputs": [],
   "source": []
  }
 ],
 "metadata": {
  "kernelspec": {
   "display_name": "venv",
   "language": "python",
   "name": "python3"
  },
  "language_info": {
   "codemirror_mode": {
    "name": "ipython",
    "version": 3
   },
   "file_extension": ".py",
   "mimetype": "text/x-python",
   "name": "python",
   "nbconvert_exporter": "python",
   "pygments_lexer": "ipython3",
   "version": "3.11.11"
  }
 },
 "nbformat": 4,
 "nbformat_minor": 2
}
