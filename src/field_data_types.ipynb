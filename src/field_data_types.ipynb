{
 "cells": [
  {
   "cell_type": "markdown",
   "metadata": {},
   "source": [
    "- In this we will see everything related to `Filed data types`"
   ]
  },
  {
   "cell_type": "markdown",
   "metadata": {},
   "source": [
    "### Common Data-type"
   ]
  },
  {
   "cell_type": "markdown",
   "metadata": {},
   "source": [
    "- Binry datatype"
   ]
  },
  {
   "cell_type": "markdown",
   "metadata": {},
   "source": [
    "![Binary datatypes](../img-src/Storing_image_as_binry.png)"
   ]
  },
  {
   "cell_type": "code",
   "execution_count": 1,
   "metadata": {},
   "outputs": [],
   "source": [
    "import base64"
   ]
  },
  {
   "cell_type": "code",
   "execution_count": 6,
   "metadata": {},
   "outputs": [],
   "source": [
    "from elasticsearch import Elasticsearch\n",
    "import json\n",
    "from pprint import pprint"
   ]
  },
  {
   "cell_type": "markdown",
   "metadata": {},
   "source": [
    "-   create an index"
   ]
  },
  {
   "cell_type": "code",
   "execution_count": 8,
   "metadata": {},
   "outputs": [
    {
     "name": "stdout",
     "output_type": "stream",
     "text": [
      "{'cluster_name': 'docker-cluster',\n",
      " 'cluster_uuid': 'tGYnSe7ISE2SFo0pu1RcHg',\n",
      " 'name': '5d9dbd669d35',\n",
      " 'tagline': 'You Know, for Search',\n",
      " 'version': {'build_date': '2023-02-13T09:35:20.314882762Z',\n",
      "             'build_flavor': 'default',\n",
      "             'build_hash': '2d58d0f136141f03239816a4e360a8d17b6d8f29',\n",
      "             'build_snapshot': False,\n",
      "             'build_type': 'docker',\n",
      "             'lucene_version': '9.4.2',\n",
      "             'minimum_index_compatibility_version': '7.0.0',\n",
      "             'minimum_wire_compatibility_version': '7.17.0',\n",
      "             'number': '8.6.2'}}\n"
     ]
    }
   ],
   "source": [
    "es= Elasticsearch(hosts=\"http://localhost:9200/\")\n",
    "pprint(es.info().body)"
   ]
  },
  {
   "cell_type": "code",
   "execution_count": 9,
   "metadata": {},
   "outputs": [
    {
     "data": {
      "text/plain": [
       "ObjectApiResponse({'acknowledged': True, 'shards_acknowledged': True, 'index': 'test_index'})"
      ]
     },
     "execution_count": 9,
     "metadata": {},
     "output_type": "execute_result"
    }
   ],
   "source": [
    "es.indices.create(index=\"test_index\")"
   ]
  },
  {
   "cell_type": "markdown",
   "metadata": {},
   "source": [
    "- `test_index` created, Now read and image convert into base64 bitecode and then decode It in utf-8 string for storage"
   ]
  },
  {
   "cell_type": "code",
   "execution_count": 10,
   "metadata": {},
   "outputs": [],
   "source": [
    "image_str_data=\"\"\n",
    "with open('../img-src/test_image.png', \"rb\") as imageFD:\n",
    "    image_binary_data=imageFD.read()\n",
    "    image_str_data= base64.b64encode(image_binary_data).decode(\"utf-8\")\n",
    "\n"
   ]
  },
  {
   "cell_type": "code",
   "execution_count": 11,
   "metadata": {},
   "outputs": [
    {
     "name": "stdout",
     "output_type": "stream",
     "text": [
      "iVBORw0KGgoAAAANSUhEUgAAAyYAAAGeCAYAAABhMRUDAAAABHNCSVQICAgIfAhkiAAAABl0RVh0U29mdHdhcmUAZ25vbWUtc2Ny\n"
     ]
    }
   ],
   "source": [
    "print(image_str_data[:100])"
   ]
  },
  {
   "cell_type": "markdown",
   "metadata": {},
   "source": [
    "-  insert the image str in test_index"
   ]
  },
  {
   "cell_type": "code",
   "execution_count": 12,
   "metadata": {},
   "outputs": [],
   "source": [
    "# convert the image data in a json format\n",
    "doc={\n",
    "    \"image_data\": image_str_data\n",
    "}\n",
    "\n",
    "# store the doc in test_index\n",
    "\n",
    "res=es.index(index=\"test_index\", document=doc)\n",
    "\n"
   ]
  },
  {
   "cell_type": "code",
   "execution_count": 13,
   "metadata": {},
   "outputs": [
    {
     "name": "stdout",
     "output_type": "stream",
     "text": [
      "{'_id': 'y980EpUBZI6kT9oaQFII',\n",
      " '_index': 'test_index',\n",
      " '_primary_term': 1,\n",
      " '_seq_no': 0,\n",
      " '_shards': {'failed': 0, 'successful': 1, 'total': 2},\n",
      " '_version': 1,\n",
      " 'result': 'created'}\n"
     ]
    }
   ],
   "source": [
    "pprint(res.body)"
   ]
  },
  {
   "cell_type": "code",
   "execution_count": 15,
   "metadata": {},
   "outputs": [],
   "source": [
    "# see the automatic mapping\n",
    "infered_mapping=es.indices.get_mapping(index=\"test_index\")[\"test_index\"][\"mappings\"]"
   ]
  },
  {
   "cell_type": "code",
   "execution_count": 16,
   "metadata": {},
   "outputs": [
    {
     "name": "stdout",
     "output_type": "stream",
     "text": [
      "{'properties': {'image_data': {'fields': {'keyword': {'ignore_above': 256,\n",
      "                                                      'type': 'keyword'}},\n",
      "                               'type': 'text'}}}\n"
     ]
    }
   ],
   "source": [
    "pprint(infered_mapping)"
   ]
  },
  {
   "cell_type": "markdown",
   "metadata": {},
   "source": [
    "## JSON object storage"
   ]
  },
  {
   "cell_type": "code",
   "execution_count": null,
   "metadata": {},
   "outputs": [],
   "source": []
  },
  {
   "cell_type": "markdown",
   "metadata": {},
   "source": [
    "# 3.1 Text"
   ]
  },
  {
   "cell_type": "code",
   "execution_count": 17,
   "metadata": {},
   "outputs": [
    {
     "data": {
      "text/plain": [
       "ObjectApiResponse({'acknowledged': True, 'shards_acknowledged': True, 'index': 'test_index'})"
      ]
     },
     "execution_count": 17,
     "metadata": {},
     "output_type": "execute_result"
    }
   ],
   "source": [
    "es.indices.delete(index=\"test_index\", ignore_unavailable= True)\n",
    "mapping={\n",
    "    \"properties\":{\n",
    "        \"email_body\":{\"type\":\"text\"}\n",
    "    }\n",
    "}\n",
    "es.indices.create(index=\"test_index\", mappings=mapping)"
   ]
  },
  {
   "cell_type": "code",
   "execution_count": 18,
   "metadata": {},
   "outputs": [
    {
     "name": "stdout",
     "output_type": "stream",
     "text": [
      "{'_id': 'zN9VEpUBZI6kT9oa_VIe',\n",
      " '_index': 'test_index',\n",
      " '_primary_term': 1,\n",
      " '_seq_no': 0,\n",
      " '_shards': {'failed': 0, 'successful': 1, 'total': 2},\n",
      " '_version': 1,\n",
      " 'result': 'created'}\n"
     ]
    }
   ],
   "source": [
    "doc={\n",
    "    \"email_body\":\"Hello, this is a test email body. regards, verma\"\n",
    "}\n",
    "res=es.index(index=\"test_index\", document=doc)\n",
    "pprint(res.body)"
   ]
  },
  {
   "cell_type": "code",
   "execution_count": 19,
   "metadata": {},
   "outputs": [
    {
     "data": {
      "text/plain": [
       "{'properties': {'email_body': {'type': 'text'}}}"
      ]
     },
     "execution_count": 19,
     "metadata": {},
     "output_type": "execute_result"
    }
   ],
   "source": [
    "es.indices.get_mapping(index=\"test_index\")['test_index']['mappings']"
   ]
  },
  {
   "cell_type": "markdown",
   "metadata": {},
   "source": [
    "# 3.2 Completion"
   ]
  },
  {
   "cell_type": "code",
   "execution_count": 21,
   "metadata": {},
   "outputs": [
    {
     "data": {
      "text/plain": [
       "ObjectApiResponse({'acknowledged': True, 'shards_acknowledged': True, 'index': 'test_index'})"
      ]
     },
     "execution_count": 21,
     "metadata": {},
     "output_type": "execute_result"
    }
   ],
   "source": [
    "es.indices.delete(index=\"test_index\", ignore_unavailable=True)\n",
    "mapping={\n",
    "    \"properties\":{\n",
    "        \"suggest\":{ #compulsory field\n",
    "            \"type\":\"completion\"\n",
    "        }\n",
    "    }\n",
    "}\n",
    "es.indices.create(index=\"test_index\", mappings=mapping)"
   ]
  },
  {
   "cell_type": "code",
   "execution_count": 22,
   "metadata": {},
   "outputs": [],
   "source": [
    "doc1={\n",
    "    \"suggestion\":{\n",
    "        \"input\":[\"Mars\", \"Planet\"] #copulsory field\n",
    "    }\n",
    "}\n",
    "doc2={\n",
    "    \"suggestion\":{\n",
    "        \"input\":[\"Moon\", \"Satellite\"] #copulsory field\n",
    "    }\n",
    "}\n",
    "\n",
    "res1=es.index(index=\"test_index\", document=doc1)\n",
    "res2=es.index(index=\"test_index\", document=doc1)"
   ]
  },
  {
   "cell_type": "code",
   "execution_count": 23,
   "metadata": {},
   "outputs": [
    {
     "name": "stdout",
     "output_type": "stream",
     "text": [
      "{'_id': 'zd9eEpUBZI6kT9oaz1K3',\n",
      " '_index': 'test_index',\n",
      " '_primary_term': 1,\n",
      " '_seq_no': 0,\n",
      " '_shards': {'failed': 0, 'successful': 1, 'total': 2},\n",
      " '_version': 1,\n",
      " 'result': 'created'}\n",
      "{'_id': 'zt9eEpUBZI6kT9oaz1Lm',\n",
      " '_index': 'test_index',\n",
      " '_primary_term': 1,\n",
      " '_seq_no': 1,\n",
      " '_shards': {'failed': 0, 'successful': 1, 'total': 2},\n",
      " '_version': 1,\n",
      " 'result': 'created'}\n"
     ]
    }
   ],
   "source": [
    "pprint(res1.body)\n",
    "pprint(res2.body)"
   ]
  },
  {
   "cell_type": "code",
   "execution_count": null,
   "metadata": {},
   "outputs": [],
   "source": []
  }
 ],
 "metadata": {
  "kernelspec": {
   "display_name": "venv",
   "language": "python",
   "name": "python3"
  },
  "language_info": {
   "codemirror_mode": {
    "name": "ipython",
    "version": 3
   },
   "file_extension": ".py",
   "mimetype": "text/x-python",
   "name": "python",
   "nbconvert_exporter": "python",
   "pygments_lexer": "ipython3",
   "version": "3.11.11"
  }
 },
 "nbformat": 4,
 "nbformat_minor": 2
}
